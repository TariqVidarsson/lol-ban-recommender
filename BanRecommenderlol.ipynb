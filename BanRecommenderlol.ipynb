{
 "cells": [
  {
   "cell_type": "code",
   "execution_count": 17,
   "id": "23a9968a-0a6f-43e3-97b2-771439005559",
   "metadata": {},
   "outputs": [],
   "source": [
    "from bs4 import BeautifulSoup\n",
    "from urllib.request import Request, urlopen\n",
    "import html5lib\n",
    "import pandas as pd\n",
    "from selenium import webdriver"
   ]
  },
  {
   "cell_type": "code",
   "execution_count": 18,
   "id": "24aa896f-cfa5-4150-b97b-518ec211cd8f",
   "metadata": {},
   "outputs": [],
   "source": [
    "driver =webdriver.Chrome()"
   ]
  },
  {
   "cell_type": "code",
   "execution_count": 19,
   "id": "d64f0bef-ab95-4489-b268-bfc213caf892",
   "metadata": {},
   "outputs": [],
   "source": [
    "driver.get( 'https://u.gg/lol/champions/illaoi/matchups?role=top')\n",
    "js_content= driver.page_source"
   ]
  },
  {
   "cell_type": "code",
   "execution_count": 20,
   "id": "bc68e426-1d6c-45cf-9bdf-b3c1d8ddb00a",
   "metadata": {},
   "outputs": [],
   "source": [
    "soup = BeautifulSoup(js_content, 'html.parser')"
   ]
  },
  {
   "cell_type": "code",
   "execution_count": 21,
   "id": "044c85cc-9a59-4be0-abc1-cab76123a43f",
   "metadata": {},
   "outputs": [],
   "source": [
    "quote = soup.find(\"div\", class_=\"content-section ReactTable ugg-table-2 matchups-table scrollable-table\")\n"
   ]
  },
  {
   "cell_type": "code",
   "execution_count": 22,
   "id": "b1ab447a-b272-4f70-ac23-46905fc0d9ae",
   "metadata": {
    "scrolled": true
   },
   "outputs": [
    {
     "data": {
      "text/plain": [
       "\"RankChampionWin Rate± Gold @15± XP @15± Kills @15± CS @15± Jun CS @15Matches1Renekton57.04%2723160.098.9-0.11,9322Akali55.91%16614-0.737.106013Rumble54.78%23266-0.6510.1-0.17324Tahm Kench54.77%491120-0.4520.507345K'Sante54.68%7924410.2720.201,8696Jax53.55%504485-0.2418.9-0.33,5397Warwick53.41%185256-0.289.1-0.33378Gragas53.38%234-89-0.4713.3-0.12969Sion53.35%3653560.8610.9-0.392610Dr. Mundo53.21%10136600.7324.8049811Gnar53.10%2401240.058.8-0.187012Kennen53.08%-30-125-0.487.4034113Volibear53.07%2083100.149.2-0.691214Irelia52.56%-194100-0.12-8.1-0.487915Yone52.41%1842270.254.7-0.43,17516Camille52.07%477366-0.3218.501,40417Cho'Gath52.00%520281-0.1316.6-0.440018Jayce51.51%822440.132-0.11,19419Ornn51.48%727315-0.0823.701,38320Sett51.34%184268-0.1512.1-0.11,53121Aatrox51.09%-18-69-0.515.2-0.24,71322Riven51.02%251351-0.289.8-0.51,86823Pantheon50.88%233351-0.6513.9-0.267824Gangplank50.82%-432470.2510.3-0.197025Yasuo50.70%-22146-0.18-3-0.742826Singed50.66%6115250.3116.6-0.152927Nasus50.65%9275120.1427.9-0.11,38828Darius50.55%-132164-0.590.8-0.32,17629Kled50.54%-150118-0.659.7-0.446530Shen50.34%1180683-0.0137.6073131Malphite49.88%823311-0.1827.901,21932Tryndamere49.83%-268-81-0.793.3-0.986933Olaf49.63%-92162-0.44.6-0.566934Garen49.31%304193-0.4113.2-0.31,80335Urgot49.09%499422-0.3319.3-0.260536Fiora48.87%335331-0.069.101,63337Poppy48.84%46-241-0.9811.4-0.143238Trundle48.54%-53305-0.318.4-0.51,13339Mordekaiser48.08%-16-218-0.626.5-0.21,90140Gwen47.85%-46-68-0.61.3-0.11,65141Yorick45.89%-74-5-0.267.4-0.495042Vayne44.66%1223870.142.4-0.141243Teemo44.40%-233-96-0.49-1.3-0.348244Kayle44.35%378273-0.0110.2-0.11,283\""
      ]
     },
     "execution_count": 22,
     "metadata": {},
     "output_type": "execute_result"
    }
   ],
   "source": [
    "quote.text"
   ]
  },
  {
   "cell_type": "code",
   "execution_count": 23,
   "id": "7cd25b3d-4685-4bde-a6df-1f1d05b79328",
   "metadata": {},
   "outputs": [
    {
     "data": {
      "text/plain": [
       "['RankChampionWin Rate± Gold @15± XP @15± Kills @15± CS @15± Jun CS @15Matches1Renekton57.04',\n",
       " '2723160.098.9-0.11,9322Akali55.91',\n",
       " '16614-0.737.106013Rumble54.78',\n",
       " '23266-0.6510.1-0.17324Tahm Kench54.77',\n",
       " \"491120-0.4520.507345K'Sante54.68\",\n",
       " '7924410.2720.201,8696Jax53.55',\n",
       " '504485-0.2418.9-0.33,5397Warwick53.41',\n",
       " '185256-0.289.1-0.33378Gragas53.38',\n",
       " '234-89-0.4713.3-0.12969Sion53.35',\n",
       " '3653560.8610.9-0.392610Dr. Mundo53.21',\n",
       " '10136600.7324.8049811Gnar53.10',\n",
       " '2401240.058.8-0.187012Kennen53.08',\n",
       " '-30-125-0.487.4034113Volibear53.07',\n",
       " '2083100.149.2-0.691214Irelia52.56',\n",
       " '-194100-0.12-8.1-0.487915Yone52.41',\n",
       " '1842270.254.7-0.43,17516Camille52.07',\n",
       " \"477366-0.3218.501,40417Cho'Gath52.00\",\n",
       " '520281-0.1316.6-0.440018Jayce51.51',\n",
       " '822440.132-0.11,19419Ornn51.48',\n",
       " '727315-0.0823.701,38320Sett51.34',\n",
       " '184268-0.1512.1-0.11,53121Aatrox51.09',\n",
       " '-18-69-0.515.2-0.24,71322Riven51.02',\n",
       " '251351-0.289.8-0.51,86823Pantheon50.88',\n",
       " '233351-0.6513.9-0.267824Gangplank50.82',\n",
       " '-432470.2510.3-0.197025Yasuo50.70',\n",
       " '-22146-0.18-3-0.742826Singed50.66',\n",
       " '6115250.3116.6-0.152927Nasus50.65',\n",
       " '9275120.1427.9-0.11,38828Darius50.55',\n",
       " '-132164-0.590.8-0.32,17629Kled50.54',\n",
       " '-150118-0.659.7-0.446530Shen50.34',\n",
       " '1180683-0.0137.6073131Malphite49.88',\n",
       " '823311-0.1827.901,21932Tryndamere49.83',\n",
       " '-268-81-0.793.3-0.986933Olaf49.63',\n",
       " '-92162-0.44.6-0.566934Garen49.31',\n",
       " '304193-0.4113.2-0.31,80335Urgot49.09',\n",
       " '499422-0.3319.3-0.260536Fiora48.87',\n",
       " '335331-0.069.101,63337Poppy48.84',\n",
       " '46-241-0.9811.4-0.143238Trundle48.54',\n",
       " '-53305-0.318.4-0.51,13339Mordekaiser48.08',\n",
       " '-16-218-0.626.5-0.21,90140Gwen47.85',\n",
       " '-46-68-0.61.3-0.11,65141Yorick45.89',\n",
       " '-74-5-0.267.4-0.495042Vayne44.66',\n",
       " '1223870.142.4-0.141243Teemo44.40',\n",
       " '-233-96-0.49-1.3-0.348244Kayle44.35']"
      ]
     },
     "execution_count": 23,
     "metadata": {},
     "output_type": "execute_result"
    }
   ],
   "source": [
    "info = quote.text.split('%')\n",
    "info[:-1]"
   ]
  },
  {
   "cell_type": "code",
   "execution_count": 24,
   "id": "b2b76241-6cba-413f-b0b1-393dce5e0808",
   "metadata": {},
   "outputs": [
    {
     "name": "stdout",
     "output_type": "stream",
     "text": [
      "57.04\n",
      "55.91\n",
      "54.78\n",
      "54.77\n",
      "54.68\n",
      "53.55\n",
      "53.41\n",
      "53.38\n",
      "53.35\n",
      "53.21\n",
      "53.1\n",
      "53.08\n",
      "53.07\n",
      "52.56\n",
      "52.41\n",
      "52.07\n",
      "52.0\n",
      "51.51\n",
      "51.48\n",
      "51.34\n",
      "51.09\n",
      "51.02\n",
      "50.88\n",
      "50.82\n",
      "50.7\n",
      "50.66\n",
      "50.65\n",
      "50.55\n",
      "50.54\n",
      "50.34\n",
      "49.88\n",
      "49.83\n",
      "49.63\n",
      "49.31\n",
      "49.09\n",
      "48.87\n",
      "48.84\n",
      "48.54\n",
      "48.08\n",
      "47.85\n",
      "45.89\n",
      "44.66\n",
      "44.4\n",
      "44.35\n"
     ]
    }
   ],
   "source": [
    "info = quote.text.split('%')\n",
    "champs = []\n",
    "win_rate = []\n",
    "for data in quote.text.split('%')[:-1]:\n",
    "    print(float(data[-5:]))\n",
    "    win_rate.append(float(data[-5:]))\n",
    "    champ = ''\n",
    "    for index in data[::-1][5:]:\n",
    "        if index.isnumeric():\n",
    "            champs.append(champ)\n",
    "            break\n",
    "        else:\n",
    "            champ = index + champ"
   ]
  },
  {
   "cell_type": "code",
   "execution_count": 28,
   "id": "73e5a175-c0ad-48df-824c-982e17a88eae",
   "metadata": {},
   "outputs": [
    {
     "data": {
      "text/plain": [
       "['Renekton',\n",
       " 'Akali',\n",
       " 'Rumble',\n",
       " 'Tahm Kench',\n",
       " \"K'Sante\",\n",
       " 'Jax',\n",
       " 'Warwick',\n",
       " 'Gragas',\n",
       " 'Sion',\n",
       " 'Dr. Mundo',\n",
       " 'Gnar',\n",
       " 'Kennen',\n",
       " 'Volibear',\n",
       " 'Irelia',\n",
       " 'Yone',\n",
       " 'Camille',\n",
       " \"Cho'Gath\",\n",
       " 'Jayce',\n",
       " 'Ornn',\n",
       " 'Sett',\n",
       " 'Aatrox',\n",
       " 'Riven',\n",
       " 'Pantheon',\n",
       " 'Gangplank',\n",
       " 'Yasuo',\n",
       " 'Singed',\n",
       " 'Nasus',\n",
       " 'Darius',\n",
       " 'Kled',\n",
       " 'Shen',\n",
       " 'Malphite',\n",
       " 'Tryndamere',\n",
       " 'Olaf',\n",
       " 'Garen',\n",
       " 'Urgot',\n",
       " 'Fiora',\n",
       " 'Poppy',\n",
       " 'Trundle',\n",
       " 'Mordekaiser',\n",
       " 'Gwen',\n",
       " 'Yorick',\n",
       " 'Vayne',\n",
       " 'Teemo',\n",
       " 'Kayle']"
      ]
     },
     "execution_count": 28,
     "metadata": {},
     "output_type": "execute_result"
    }
   ],
   "source": [
    "champs"
   ]
  },
  {
   "cell_type": "code",
   "execution_count": null,
   "id": "b09ae649-8e0d-42ff-9873-e08a5e9b473c",
   "metadata": {},
   "outputs": [],
   "source": []
  }
 ],
 "metadata": {
  "kernelspec": {
   "display_name": "Python 3 (ipykernel)",
   "language": "python",
   "name": "python3"
  },
  "language_info": {
   "codemirror_mode": {
    "name": "ipython",
    "version": 3
   },
   "file_extension": ".py",
   "mimetype": "text/x-python",
   "name": "python",
   "nbconvert_exporter": "python",
   "pygments_lexer": "ipython3",
   "version": "3.11.5"
  }
 },
 "nbformat": 4,
 "nbformat_minor": 5
}
