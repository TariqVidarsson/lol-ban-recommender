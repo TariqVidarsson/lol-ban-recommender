{
 "cells": [
  {
   "cell_type": "code",
   "execution_count": 7,
   "id": "23a9968a-0a6f-43e3-97b2-771439005559",
   "metadata": {},
   "outputs": [],
   "source": [
    "from bs4 import BeautifulSoup\n",
    "from urllib.request import Request, urlopen\n",
    "import html5lib\n",
    "import pandas as pd\n",
    "from selenium import webdriver"
   ]
  },
  {
   "cell_type": "code",
   "execution_count": 8,
   "id": "24aa896f-cfa5-4150-b97b-518ec211cd8f",
   "metadata": {},
   "outputs": [],
   "source": [
    "driver =webdriver.Chrome()"
   ]
  },
  {
   "cell_type": "code",
   "execution_count": 3,
   "id": "53c9762c-ff69-4ed1-bc40-a7548a853955",
   "metadata": {},
   "outputs": [],
   "source": [
    "url = 'https://u.gg/lol/champions/poppy/matchups?role=top'\n",
    "req= Request(url, headers = {'User-Agent': 'Mozilla/5.0'})\n",
    "webpage = urlopen(req).read()\n",
    "soup = BeautifulSoup(webpage, 'lxml')"
   ]
  },
  {
   "cell_type": "code",
   "execution_count": 4,
   "id": "42d99131-390f-4ae4-a490-6fcb7dea7223",
   "metadata": {},
   "outputs": [],
   "source": [
    "table=soup.findAll('div',role='table')"
   ]
  },
  {
   "cell_type": "code",
   "execution_count": 10,
   "id": "d64f0bef-ab95-4489-b268-bfc213caf892",
   "metadata": {},
   "outputs": [],
   "source": [
    "driver.get( 'https://u.gg/lol/champions/poppy/matchups?role=top')\n",
    "js_content= driver.page_source"
   ]
  },
  {
   "cell_type": "code",
   "execution_count": 11,
   "id": "bc68e426-1d6c-45cf-9bdf-b3c1d8ddb00a",
   "metadata": {},
   "outputs": [],
   "source": [
    "soup = BeautifulSoup(js_content, 'html.parser')"
   ]
  },
  {
   "cell_type": "code",
   "execution_count": null,
   "id": "9b4201af-1b7b-49de-b8a8-ef84833464e4",
   "metadata": {},
   "outputs": [],
   "source": []
  },
  {
   "cell_type": "code",
   "execution_count": 16,
   "id": "044c85cc-9a59-4be0-abc1-cab76123a43f",
   "metadata": {},
   "outputs": [
    {
     "name": "stdout",
     "output_type": "stream",
     "text": [
      "RankChampionWin Rate± Gold @15± XP @15± Kills @15± CS @15± Jun CS @15Matches1Yasuo57.46%253750.89-7-0.81812K'Sante57.38%5765200.936.20.19693Rumble57.25%-316-125-0.15-12.1-0.24144Irelia57.17%-614040.72-14.5-0.24815Kennen57.05%-405-177-0.2-10.30.11566Akali56.75%-140190.11-9.603637Jayce56.51%1104900.93-6-0.18378Tahm Kench56.05%-135-216-0.17-3.90.12239Mordekaiser55.73%-211-237-0.01-7.4-0.343610Pantheon55.56%-180268-0.28-1.5027911Renekton55.54%-186860.4-10.9-0.273112Sion55.02%-1141871.43-11.3032913Riven54.97%1184640.31.7-0.51,51914Yone54.87%-1521710.59-9.3-0.51,44915Yorick54.70%-1371980.33-2.4-0.718116Gragas54.61%3-30.16-2.6015217Aatrox53.94%-223-720.08-9.3-0.12,28618Volibear53.92%-195790.48-7.8-0.533219Tryndamere53.75%-2312890.2-5-130720Gnar53.52%-671160.42-8.6039821Quinn52.90%456350.434.1-0.215522Dr. Mundo52.88%2122580.72-0.5019123Ornn52.83%2692460.532.40.160024Jax52.69%1514140.263.3-0.21,98925Nasus52.37%4163660.474.7044326Shen52.17%6404720.3815.20.125327Fiora51.69%803260.41-2.7-0.179728Trundle51.64%145480.89-1.6-0.457929Illaoi51.16%-462410.98-11.40.143230Rengar50.84%-211268-0.29-1.1-0.417931Sett50.68%-1281410.14-1.3-0.151532Singed50.64%3795440.985.4-0.123333Kled50.30%-2501650.02-1.9-0.416934Gwen50.00%-261380.45-9.2-0.164235Urgot50.00%1343140.222.6-0.224636Garen49.81%1171970.090.3-0.279137Kayle49.73%2003740.75-4.6037438Warwick49.61%-742-385-0.85-16.3-0.612939Gangplank49.38%-430760.53-7.2048240Darius49.10%-667-218-0.57-16.4-0.377441Cho'Gath48.72%116380.151.5-0.315642Camille48.48%3164380.234068943Zac47.01%-190-81-0.250.2013444Teemo46.94%-604-259-0.16-17.6-0.314745Malphite46.28%21949-0.066.90.244346Olaf45.30%-386-29-0.19-9.4-0.5362\n"
     ]
    }
   ],
   "source": [
    "quote = soup.find(\"div\", class_=\"content-section ReactTable ugg-table-2 matchups-table scrollable-table\")\n",
    "print(quote.text)"
   ]
  }
 ],
 "metadata": {
  "kernelspec": {
   "display_name": "Python 3 (ipykernel)",
   "language": "python",
   "name": "python3"
  },
  "language_info": {
   "codemirror_mode": {
    "name": "ipython",
    "version": 3
   },
   "file_extension": ".py",
   "mimetype": "text/x-python",
   "name": "python",
   "nbconvert_exporter": "python",
   "pygments_lexer": "ipython3",
   "version": "3.11.5"
  }
 },
 "nbformat": 4,
 "nbformat_minor": 5
}
